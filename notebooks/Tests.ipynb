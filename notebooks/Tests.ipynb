{
 "cells": [
  {
   "cell_type": "markdown",
   "source": [
    "# Testing the label encoder"
   ],
   "metadata": {
    "collapsed": false
   },
   "id": "4b2b8add961d6c2a"
  },
  {
   "cell_type": "code",
   "execution_count": 3,
   "id": "initial_id",
   "metadata": {
    "collapsed": true,
    "ExecuteTime": {
     "end_time": "2023-08-20T22:31:23.815030900Z",
     "start_time": "2023-08-20T22:31:23.808998400Z"
    }
   },
   "outputs": [
    {
     "data": {
      "text/plain": "array([4, 5])"
     },
     "execution_count": 3,
     "metadata": {},
     "output_type": "execute_result"
    }
   ],
   "source": [
    "import joblib\n",
    "\n",
    "le = joblib.load('../assets/artifacts/label_encoder.pkl')\n",
    "\n",
    "le.transform(['EDUCATION', 'ENTERTAINMENT'])"
   ]
  }
 ],
 "metadata": {
  "kernelspec": {
   "display_name": "Python 3",
   "language": "python",
   "name": "python3"
  },
  "language_info": {
   "codemirror_mode": {
    "name": "ipython",
    "version": 2
   },
   "file_extension": ".py",
   "mimetype": "text/x-python",
   "name": "python",
   "nbconvert_exporter": "python",
   "pygments_lexer": "ipython2",
   "version": "2.7.6"
  }
 },
 "nbformat": 4,
 "nbformat_minor": 5
}
